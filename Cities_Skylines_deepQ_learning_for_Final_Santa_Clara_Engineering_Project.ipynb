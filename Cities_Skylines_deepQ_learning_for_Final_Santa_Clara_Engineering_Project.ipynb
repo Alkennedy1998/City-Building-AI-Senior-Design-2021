{
  "nbformat": 4,
  "nbformat_minor": 0,
  "metadata": {
    "colab": {
      "name": "Cities:Skylines deepQ learning for Final Santa Clara Engineering Project.ipynb",
      "provenance": [],
      "collapsed_sections": [],
      "include_colab_link": true
    },
    "kernelspec": {
      "display_name": "Python 3",
      "name": "python3"
    },
    "language_info": {
      "name": "python"
    }
  },
  "cells": [
    {
      "cell_type": "markdown",
      "metadata": {
        "id": "view-in-github",
        "colab_type": "text"
      },
      "source": [
        "<a href=\"https://colab.research.google.com/github/Alkennedy1998/City-Building-AI-Senior-Design-2021/blob/main/Cities_Skylines_deepQ_learning_for_Final_Santa_Clara_Engineering_Project.ipynb\" target=\"_parent\"><img src=\"https://colab.research.google.com/assets/colab-badge.svg\" alt=\"Open In Colab\"/></a>"
      ]
    },
    {
      "cell_type": "code",
      "metadata": {
        "id": "kwFnogfb4bFd",
        "colab": {
          "base_uri": "https://localhost:8080/"
        },
        "outputId": "bc3fa7e3-90a5-454a-c7b2-8d15b0654ec2"
      },
      "source": [
        "pip install -q tf-agents"
      ],
      "execution_count": null,
      "outputs": [
        {
          "output_type": "stream",
          "text": [
            "\u001b[?25l\r\u001b[K     |▎                               | 10kB 23.9MB/s eta 0:00:01\r\u001b[K     |▌                               | 20kB 28.7MB/s eta 0:00:01\r\u001b[K     |▉                               | 30kB 33.4MB/s eta 0:00:01\r\u001b[K     |█                               | 40kB 23.1MB/s eta 0:00:01\r\u001b[K     |█▍                              | 51kB 11.0MB/s eta 0:00:01\r\u001b[K     |█▋                              | 61kB 11.0MB/s eta 0:00:01\r\u001b[K     |██                              | 71kB 11.6MB/s eta 0:00:01\r\u001b[K     |██▏                             | 81kB 11.3MB/s eta 0:00:01\r\u001b[K     |██▍                             | 92kB 10.0MB/s eta 0:00:01\r\u001b[K     |██▊                             | 102kB 10.7MB/s eta 0:00:01\r\u001b[K     |███                             | 112kB 10.7MB/s eta 0:00:01\r\u001b[K     |███▎                            | 122kB 10.7MB/s eta 0:00:01\r\u001b[K     |███▌                            | 133kB 10.7MB/s eta 0:00:01\r\u001b[K     |███▉                            | 143kB 10.7MB/s eta 0:00:01\r\u001b[K     |████                            | 153kB 10.7MB/s eta 0:00:01\r\u001b[K     |████▎                           | 163kB 10.7MB/s eta 0:00:01\r\u001b[K     |████▋                           | 174kB 10.7MB/s eta 0:00:01\r\u001b[K     |████▉                           | 184kB 10.7MB/s eta 0:00:01\r\u001b[K     |█████▏                          | 194kB 10.7MB/s eta 0:00:01\r\u001b[K     |█████▍                          | 204kB 10.7MB/s eta 0:00:01\r\u001b[K     |█████▊                          | 215kB 10.7MB/s eta 0:00:01\r\u001b[K     |██████                          | 225kB 10.7MB/s eta 0:00:01\r\u001b[K     |██████▏                         | 235kB 10.7MB/s eta 0:00:01\r\u001b[K     |██████▌                         | 245kB 10.7MB/s eta 0:00:01\r\u001b[K     |██████▊                         | 256kB 10.7MB/s eta 0:00:01\r\u001b[K     |███████                         | 266kB 10.7MB/s eta 0:00:01\r\u001b[K     |███████▎                        | 276kB 10.7MB/s eta 0:00:01\r\u001b[K     |███████▋                        | 286kB 10.7MB/s eta 0:00:01\r\u001b[K     |███████▉                        | 296kB 10.7MB/s eta 0:00:01\r\u001b[K     |████████                        | 307kB 10.7MB/s eta 0:00:01\r\u001b[K     |████████▍                       | 317kB 10.7MB/s eta 0:00:01\r\u001b[K     |████████▋                       | 327kB 10.7MB/s eta 0:00:01\r\u001b[K     |█████████                       | 337kB 10.7MB/s eta 0:00:01\r\u001b[K     |█████████▏                      | 348kB 10.7MB/s eta 0:00:01\r\u001b[K     |█████████▌                      | 358kB 10.7MB/s eta 0:00:01\r\u001b[K     |█████████▊                      | 368kB 10.7MB/s eta 0:00:01\r\u001b[K     |██████████                      | 378kB 10.7MB/s eta 0:00:01\r\u001b[K     |██████████▎                     | 389kB 10.7MB/s eta 0:00:01\r\u001b[K     |██████████▌                     | 399kB 10.7MB/s eta 0:00:01\r\u001b[K     |██████████▉                     | 409kB 10.7MB/s eta 0:00:01\r\u001b[K     |███████████                     | 419kB 10.7MB/s eta 0:00:01\r\u001b[K     |███████████▍                    | 430kB 10.7MB/s eta 0:00:01\r\u001b[K     |███████████▋                    | 440kB 10.7MB/s eta 0:00:01\r\u001b[K     |███████████▉                    | 450kB 10.7MB/s eta 0:00:01\r\u001b[K     |████████████▏                   | 460kB 10.7MB/s eta 0:00:01\r\u001b[K     |████████████▍                   | 471kB 10.7MB/s eta 0:00:01\r\u001b[K     |████████████▊                   | 481kB 10.7MB/s eta 0:00:01\r\u001b[K     |█████████████                   | 491kB 10.7MB/s eta 0:00:01\r\u001b[K     |█████████████▎                  | 501kB 10.7MB/s eta 0:00:01\r\u001b[K     |█████████████▌                  | 512kB 10.7MB/s eta 0:00:01\r\u001b[K     |█████████████▊                  | 522kB 10.7MB/s eta 0:00:01\r\u001b[K     |██████████████                  | 532kB 10.7MB/s eta 0:00:01\r\u001b[K     |██████████████▎                 | 542kB 10.7MB/s eta 0:00:01\r\u001b[K     |██████████████▋                 | 552kB 10.7MB/s eta 0:00:01\r\u001b[K     |██████████████▉                 | 563kB 10.7MB/s eta 0:00:01\r\u001b[K     |███████████████▏                | 573kB 10.7MB/s eta 0:00:01\r\u001b[K     |███████████████▍                | 583kB 10.7MB/s eta 0:00:01\r\u001b[K     |███████████████▋                | 593kB 10.7MB/s eta 0:00:01\r\u001b[K     |████████████████                | 604kB 10.7MB/s eta 0:00:01\r\u001b[K     |████████████████▏               | 614kB 10.7MB/s eta 0:00:01\r\u001b[K     |████████████████▌               | 624kB 10.7MB/s eta 0:00:01\r\u001b[K     |████████████████▊               | 634kB 10.7MB/s eta 0:00:01\r\u001b[K     |█████████████████               | 645kB 10.7MB/s eta 0:00:01\r\u001b[K     |█████████████████▎              | 655kB 10.7MB/s eta 0:00:01\r\u001b[K     |█████████████████▌              | 665kB 10.7MB/s eta 0:00:01\r\u001b[K     |█████████████████▉              | 675kB 10.7MB/s eta 0:00:01\r\u001b[K     |██████████████████              | 686kB 10.7MB/s eta 0:00:01\r\u001b[K     |██████████████████▍             | 696kB 10.7MB/s eta 0:00:01\r\u001b[K     |██████████████████▋             | 706kB 10.7MB/s eta 0:00:01\r\u001b[K     |███████████████████             | 716kB 10.7MB/s eta 0:00:01\r\u001b[K     |███████████████████▏            | 727kB 10.7MB/s eta 0:00:01\r\u001b[K     |███████████████████▌            | 737kB 10.7MB/s eta 0:00:01\r\u001b[K     |███████████████████▊            | 747kB 10.7MB/s eta 0:00:01\r\u001b[K     |████████████████████            | 757kB 10.7MB/s eta 0:00:01\r\u001b[K     |████████████████████▎           | 768kB 10.7MB/s eta 0:00:01\r\u001b[K     |████████████████████▌           | 778kB 10.7MB/s eta 0:00:01\r\u001b[K     |████████████████████▉           | 788kB 10.7MB/s eta 0:00:01\r\u001b[K     |█████████████████████           | 798kB 10.7MB/s eta 0:00:01\r\u001b[K     |█████████████████████▍          | 808kB 10.7MB/s eta 0:00:01\r\u001b[K     |█████████████████████▋          | 819kB 10.7MB/s eta 0:00:01\r\u001b[K     |█████████████████████▉          | 829kB 10.7MB/s eta 0:00:01\r\u001b[K     |██████████████████████▏         | 839kB 10.7MB/s eta 0:00:01\r\u001b[K     |██████████████████████▍         | 849kB 10.7MB/s eta 0:00:01\r\u001b[K     |██████████████████████▊         | 860kB 10.7MB/s eta 0:00:01\r\u001b[K     |███████████████████████         | 870kB 10.7MB/s eta 0:00:01\r\u001b[K     |███████████████████████▎        | 880kB 10.7MB/s eta 0:00:01\r\u001b[K     |███████████████████████▌        | 890kB 10.7MB/s eta 0:00:01\r\u001b[K     |███████████████████████▊        | 901kB 10.7MB/s eta 0:00:01\r\u001b[K     |████████████████████████        | 911kB 10.7MB/s eta 0:00:01\r\u001b[K     |████████████████████████▎       | 921kB 10.7MB/s eta 0:00:01\r\u001b[K     |████████████████████████▋       | 931kB 10.7MB/s eta 0:00:01\r\u001b[K     |████████████████████████▉       | 942kB 10.7MB/s eta 0:00:01\r\u001b[K     |█████████████████████████▏      | 952kB 10.7MB/s eta 0:00:01\r\u001b[K     |█████████████████████████▍      | 962kB 10.7MB/s eta 0:00:01\r\u001b[K     |█████████████████████████▋      | 972kB 10.7MB/s eta 0:00:01\r\u001b[K     |██████████████████████████      | 983kB 10.7MB/s eta 0:00:01\r\u001b[K     |██████████████████████████▏     | 993kB 10.7MB/s eta 0:00:01\r\u001b[K     |██████████████████████████▌     | 1.0MB 10.7MB/s eta 0:00:01\r\u001b[K     |██████████████████████████▊     | 1.0MB 10.7MB/s eta 0:00:01\r\u001b[K     |███████████████████████████     | 1.0MB 10.7MB/s eta 0:00:01\r\u001b[K     |███████████████████████████▎    | 1.0MB 10.7MB/s eta 0:00:01\r\u001b[K     |███████████████████████████▌    | 1.0MB 10.7MB/s eta 0:00:01\r\u001b[K     |███████████████████████████▉    | 1.1MB 10.7MB/s eta 0:00:01\r\u001b[K     |████████████████████████████    | 1.1MB 10.7MB/s eta 0:00:01\r\u001b[K     |████████████████████████████▍   | 1.1MB 10.7MB/s eta 0:00:01\r\u001b[K     |████████████████████████████▋   | 1.1MB 10.7MB/s eta 0:00:01\r\u001b[K     |█████████████████████████████   | 1.1MB 10.7MB/s eta 0:00:01\r\u001b[K     |█████████████████████████████▏  | 1.1MB 10.7MB/s eta 0:00:01\r\u001b[K     |█████████████████████████████▍  | 1.1MB 10.7MB/s eta 0:00:01\r\u001b[K     |█████████████████████████████▊  | 1.1MB 10.7MB/s eta 0:00:01\r\u001b[K     |██████████████████████████████  | 1.1MB 10.7MB/s eta 0:00:01\r\u001b[K     |██████████████████████████████▎ | 1.1MB 10.7MB/s eta 0:00:01\r\u001b[K     |██████████████████████████████▌ | 1.2MB 10.7MB/s eta 0:00:01\r\u001b[K     |██████████████████████████████▉ | 1.2MB 10.7MB/s eta 0:00:01\r\u001b[K     |███████████████████████████████ | 1.2MB 10.7MB/s eta 0:00:01\r\u001b[K     |███████████████████████████████▎| 1.2MB 10.7MB/s eta 0:00:01\r\u001b[K     |███████████████████████████████▋| 1.2MB 10.7MB/s eta 0:00:01\r\u001b[K     |███████████████████████████████▉| 1.2MB 10.7MB/s eta 0:00:01\r\u001b[K     |████████████████████████████████| 1.2MB 10.7MB/s \n",
            "\u001b[?25h"
          ],
          "name": "stdout"
        }
      ]
    },
    {
      "cell_type": "code",
      "metadata": {
        "id": "9oFBBd8V4Qrz"
      },
      "source": [
        "from __future__ import absolute_import, division, print_function\n",
        "\n",
        "import base64\n",
        "import imageio\n",
        "import IPython\n",
        "import matplotlib\n",
        "import matplotlib.pyplot as plt\n",
        "import numpy as np\n",
        "import PIL.Image\n",
        "\n",
        "import tensorflow as tf\n",
        "\n",
        "from tf_agents.agents.dqn import dqn_agent\n",
        "from tf_agents.drivers import dynamic_step_driver\n",
        "from tf_agents.environments import suite_gym\n",
        "from tf_agents.environments import py_environment\n",
        "from tf_agents.environments import tf_environment\n",
        "from tf_agents.environments import tf_py_environment\n",
        "from tf_agents.eval import metric_utils\n",
        "from tf_agents.metrics import tf_metrics\n",
        "from tf_agents.networks import sequential\n",
        "from tf_agents.policies import random_tf_policy\n",
        "from tf_agents.replay_buffers import tf_uniform_replay_buffer\n",
        "from tf_agents.trajectories import trajectory\n",
        "from tf_agents.specs import tensor_spec\n",
        "from tf_agents.utils import common\n",
        "from tf_agents.specs import array_spec\n",
        "from tf_agents.environments import wrappers\n",
        "from tf_agents.environments import suite_gym\n",
        "from tf_agents.trajectories import time_step as ts\n",
        "from tf_agents.environments import utils\n",
        "\n"
      ],
      "execution_count": null,
      "outputs": []
    },
    {
      "cell_type": "code",
      "metadata": {
        "id": "I-li8iTMrmhe"
      },
      "source": [
        "\n",
        "from matplotlib import cm, colors\n",
        "from time import sleep\n",
        "from IPython.display import clear_output\n",
        "from math import floor\n",
        "from random import randrange\n",
        "\n",
        "color_map = colors.ListedColormap(['green','gray','white','blue','black','orange','pink'])\n",
        "plt.rcParams['figure.figsize'] = [20, 10]\n",
        "\n",
        "# Game board:\n",
        "# 0 = Empty\n",
        "# 1 = Road\n",
        "# 2 = Residential Zone\n",
        "# 3 = Commercial Zone\n",
        "# 4 = Power Plant\n",
        "# 5 = Hospital\n",
        "# 6 = Wind Power Plant\n",
        "\n",
        "class CitiesSkylinesEnvironment(py_environment.PyEnvironment):\n",
        "  def __init__(self):\n",
        "    \"\"\" \n",
        "    Action space is from 0 to 15679\n",
        "    board space * possible actions\n",
        "    62*62 = 3844, 3844 - 472, 3136 * 5 = 15680\n",
        "    \"\"\"\n",
        "\n",
        "    self._initial_state = np.zeros((56,56))\n",
        "    self._state = self._initial_state\n",
        "    self._game_cycles = 0;\n",
        "\n",
        "    self._action_spec = array_spec.BoundedArraySpec(\n",
        "        shape=(), dtype=np.int32, minimum=0, maximum=15679, name='action')\n",
        "    self._observation_spec = array_spec.BoundedArraySpec(\n",
        "        shape=(56,56), dtype=np.int32, minimum=0, maximum=7, name='observation')\n",
        "    \n",
        "    self._episode_ended = False\n",
        "    self._reward_value = 0\n",
        "    self._population = 0;\n",
        "    self._pollution = 0;\n",
        "    self._power = 0;\n",
        "    self._income = 0;\n",
        "\n",
        "    self._residential_count = 0\n",
        "    self._commercial_count = 0\n",
        "    self._coal_plant_count = 0\n",
        "    self._wind_plant_count = 0\n",
        "    self._hospital_count = 0\n",
        "\n",
        "  def action_spec(self):\n",
        "    return self._action_spec\n",
        "\n",
        "  def observation_spec(self):\n",
        "    return self._observation_spec\n",
        "  \n",
        "  def current_time_step(self):\n",
        "    return self._current_time_step\n",
        "\n",
        "  def _reset(self):\n",
        "      self._state = self._initial_state\n",
        "      self._episode_ended = False\n",
        "      return ts.restart(np.array(self._state, dtype=np.int32))\n",
        "\n",
        "  def _step(self, action):\n",
        "    #Add a while guard to pause the program \n",
        "\n",
        "    self._game_cycles += 1\n",
        "\n",
        "    if action/3136 < 1:\n",
        "      # Residential zone\n",
        "      self._population += 4\n",
        "      self._pollution += 1\n",
        "      self._residential_count += 1\n",
        "      #Residences also provide income in form of taxes\n",
        "      #About $7 per indivudal zone square, roughly \n",
        "      self._income += 7\n",
        "\n",
        "      x,y = self.map_action_to_coordinate(action)\n",
        "      self._state[x][y] = 2\n",
        "      #print(\"Residential Zone Built at \" + str(x) + \",\" + str(y))\n",
        "\n",
        "    elif action/3136 < 2:\n",
        "      # Commercial Zone\n",
        "      self._income += 0.1*self._population\n",
        "      self._pollution += 5\n",
        "      self._commercial_count += 1  \n",
        "\n",
        "      action = action - 3136\n",
        "      x,y = self.map_action_to_coordinate(action)\n",
        "      self._state[x][y] = 3\n",
        "      #print(\"Commercial Zone Built at \" + str(x) + \",\" + str(y))\n",
        "    elif action/3136 < 3:\n",
        "      # Coal Power Plant\n",
        "      #Placing one square at a time but in game takes up 30 squares, so should divide by 30... will do later once get loss function wokring \n",
        "      self._power += 40\n",
        "      self._income -= 560\n",
        "      self._pollution += 50\n",
        "      self._coal_plant_count += 1\n",
        "\n",
        "      action = action - 3136 * 2\n",
        "      x,y = self.map_action_to_coordinate(action)\n",
        "      self._state[x][y] = 4\n",
        "      #print(\"Coal Plant Built at \" + str(x) + \",\" + str(y))\n",
        "    elif action/3136 < 4:\n",
        "      # Wind Power Plant\n",
        "      self._power += 30\n",
        "      self._income -= 300\n",
        "      self._wind_plant_count += 1\n",
        "\n",
        "      action = action - 3136* 3\n",
        "      x,y = self.map_action_to_coordinate(action)\n",
        "      self._state[x][y] = 5\n",
        "      #print(\"Wind Plant Built at \" + str(x) + \",\" + str(y))\n",
        "    elif action/3136 < 5:\n",
        "      # Hospital\n",
        "      # self._population += floor(self._population * 0.15)\n",
        "      # self._income -= 2000\n",
        "      self._hospital_count += 1\n",
        "\n",
        "      action = action - 3136 * 4\n",
        "      x,y = self.map_action_to_coordinate(action)\n",
        "      self._state[x][y] = 6\n",
        "    else:\n",
        "      raise ValueError('`action` should be less than the max action value 15680')\n",
        "\n",
        "    reward = self._calculate_reward(self.calculate_adjacency_bonus(x,y))\n",
        "    if self._game_cycles >= 1000:\n",
        "      return ts.termination(np.array(self._state, dtype=np.int32), reward)\n",
        "    else:\n",
        "      return ts.transition(\n",
        "          np.array(self._state, dtype=np.int32), reward, discount=1.0)\n",
        "\n",
        "    \n",
        "  def map_action_to_coordinate(self,action):\n",
        "    x = floor(action / 56)\n",
        "    y = action - x*56\n",
        "\n",
        "    return(x,y)\n",
        "\n",
        "  def _calculate_reward(self,adjacency_bonus):\n",
        "    calculated_reward = 0\n",
        "    power_demand = self._population * 10\n",
        "\n",
        "    # Adjacency bonuses\n",
        "    calculated_reward += adjacency_bonus\n",
        "    adjacency_bonus = 0\n",
        "    \n",
        "    calculated_reward += self._population - self._pollution\n",
        "    if self._income < 0:\n",
        "      calculated_reward -= calculated_reward * 0.75\n",
        "    else: \n",
        "      calculated_reward += self._income / 10\n",
        "    #Rewards decrease scales with difference between power supply and demand\n",
        "    if self._power < power_demand:\n",
        "      calculated_reward -= (power_demand - self._power)\n",
        "    # (calculated _reward * (power_demand - self._power) / power_demand)\n",
        "    \n",
        "    return calculated_reward\n",
        "\n",
        "  def _printStats(self):\n",
        "    print(\"Population: \" + str(self._population))\n",
        "    print(\"Power: \" + str(self._power))\n",
        "    print(\"Pollution: \" + str(self._pollution))\n",
        "    print(\"Income: \" + str(floor(self._income)))\n",
        "\n",
        "    print(\"Residentials: \"+ str(self._residential_count))\n",
        "    print(\"Commercials: \"+ str(self._commercial_count))\n",
        "    print(\"Coals: \"+ str(self._coal_plant_count))\n",
        "    print(\"Winds: \"+ str(self._wind_plant_count))\n",
        "    print(\"Hospitals: \"+ str(self._hospital_count))\n",
        "    print(floor(self._calculate_reward(0)))\n",
        "\n",
        "  def calculate_adjacency_bonus(self,x,y):\n",
        "    bonus_sum = 0\n",
        "    directions = [(1,0),(0,1),(-1,0),(0,-1)]\n",
        "    for direction in directions:\n",
        "      new_x = x + direction[0]\n",
        "      new_y = y + direction[1]\n",
        "      if new_x > 0 and new_x < 56 and new_y > 0 and new_y <56:\n",
        "        if self._state[new_x][new_y] == self._state[x][y]:\n",
        "          bonus_sum += 150\n",
        "    return bonus_sum\n",
        "\n",
        "  def _showMap(self):\n",
        "    map_view_state = [[0 for x in range(62)] for y in range(62)]\n",
        "    for x in range(62):\n",
        "      for y in range(62):\n",
        "        if x <= 1 or y <= 1 or x >= 60 or y >= 60 or x >= 30 and x <=31 or y >= 30 and y <= 31:\n",
        "          map_view_state[x][y] = 1\n",
        "        else:\n",
        "          transformed_x = x\n",
        "          transformed_y = y\n",
        "          if x <= 29 and y <= 29:\n",
        "            transformed_x -= 2\n",
        "            transformed_y -= 2\n",
        "          elif x <= 29:\n",
        "            transformed_x -= 2\n",
        "            transformed_y -= 4\n",
        "          elif y <= 29:\n",
        "            transformed_x -= 4\n",
        "            transformed_y -= 2\n",
        "          else:\n",
        "            transformed_x -= 4\n",
        "            transformed_y -= 4\n",
        "          map_view_state[x][y] = self._state[transformed_x][transformed_y]\n",
        "    self._printStats()\n",
        "    plt.imshow(map_view_state, cmap = color_map)\n",
        "    plt.show()\n",
        "    sleep(.5)\n",
        "    clear_output(wait=True)\n",
        "  \n",
        "def main():\n",
        "  plt.figure()\n",
        "  \n",
        "  env = CitiesSkylinesEnvironment()\n",
        "  for x in range(500):\n",
        "    action = randrange(0,15680)\n",
        "    env._step(action)\n",
        "\n",
        "    if x % 50 == 0:\n",
        "      env._showMap()\n",
        "      \n",
        "\n",
        "\n",
        "# main()"
      ],
      "execution_count": null,
      "outputs": []
    },
    {
      "cell_type": "code",
      "metadata": {
        "id": "b0mhvqMEBBNX"
      },
      "source": [
        "env = CitiesSkylinesEnvironment()\n",
        "tf_env = tf_py_environment.TFPyEnvironment(env)\n",
        "train_env = tf_env\n",
        "eval_env = tf_env\n"
      ],
      "execution_count": null,
      "outputs": []
    },
    {
      "cell_type": "code",
      "metadata": {
        "id": "imVk4Vz3zjz1"
      },
      "source": [
        "num_iterations = 400 # @param {type:\"integer\"}\n",
        "\n",
        "initial_collect_steps = 100  # @param {type:\"integer\"} \n",
        "collect_steps_per_iteration = 1  # @param {type:\"integer\"}\n",
        "replay_buffer_max_length = 100000  # @param {type:\"integer\"}\n",
        "\n",
        "batch_size = 64  # @param {type:\"integer\"}\n",
        "learning_rate = 1e-3  # @param {type:\"number\"}\n",
        "log_interval = 40  # @param {type:\"integer\"}\n",
        "\n",
        "num_eval_episodes = 10  # @param {type:\"integer\"}\n",
        "eval_interval = 40  # @param {type:\"integer\"}"
      ],
      "execution_count": null,
      "outputs": []
    },
    {
      "cell_type": "code",
      "metadata": {
        "id": "ETveGVdcCRjs"
      },
      "source": [
        "# Consider layers that go big -> small -> big, e.g.\n",
        "fc_layer_params = (1024, 256, 64, 256, 1024)\n",
        "#fc_layer_params = (100, 50)\n",
        "# Maybe change env -> tf_env\n",
        "action_tensor_spec = tensor_spec.from_spec(train_env.action_spec())\n",
        "num_actions = action_tensor_spec.maximum - action_tensor_spec.minimum + 1\n",
        "\n",
        "# Define a helper function to create Dense layers configured with the right\n",
        "# activation and kernel initializer.\n",
        "def dense_layer(num_units):\n",
        "  return tf.keras.layers.Dense(\n",
        "      num_units,\n",
        "      activation=tf.keras.activations.relu,\n",
        "      kernel_initializer=tf.keras.initializers.VarianceScaling(\n",
        "          scale=2.0, mode='fan_in', distribution='truncated_normal'))\n",
        "\n",
        "# QNetwork consists of a sequence of Dense layers followed by a dense layer\n",
        "# with `num_actions` units to generate one q_value per available action as\n",
        "# it's output.\n",
        "flatten_layer = tf.keras.layers.Flatten()\n",
        "dense_layers = [dense_layer(num_units) for num_units in fc_layer_params]\n",
        "q_values_layer = tf.keras.layers.Dense(\n",
        "    num_actions,\n",
        "    activation=None,\n",
        "    kernel_initializer=tf.keras.initializers.RandomUniform(\n",
        "        minval=-0.03, maxval=0.03),\n",
        "    bias_initializer=tf.keras.initializers.Constant(-0.2))\n",
        "q_net = sequential.Sequential([flatten_layer] + dense_layers + [q_values_layer])"
      ],
      "execution_count": null,
      "outputs": []
    },
    {
      "cell_type": "code",
      "metadata": {
        "colab": {
          "base_uri": "https://localhost:8080/"
        },
        "id": "d-tY21KzCh4a",
        "outputId": "4936628b-7243-4a84-a4ee-94ad63c34bad"
      },
      "source": [
        "optimizer = tf.keras.optimizers.Adadelta(learning_rate=learning_rate)\n",
        "\n",
        "train_step_counter = tf.Variable(0)\n",
        "print(q_net)"
      ],
      "execution_count": null,
      "outputs": [
        {
          "output_type": "stream",
          "text": [
            "<tf_agents.networks.sequential.Sequential object at 0x7fec9a7d4cd0>\n"
          ],
          "name": "stdout"
        }
      ]
    },
    {
      "cell_type": "code",
      "metadata": {
        "colab": {
          "base_uri": "https://localhost:8080/"
        },
        "id": "gDak3qhmEDxu",
        "outputId": "f4a243ff-7a19-45df-9abc-5216ceb00575"
      },
      "source": [
        "print(tf_env.time_step_spec())\n",
        "print(tf_env.action_spec())\n",
        "print(q_net)\n",
        "print(q_net.losses)\n"
      ],
      "execution_count": null,
      "outputs": [
        {
          "output_type": "stream",
          "text": [
            "TimeStep(step_type=TensorSpec(shape=(), dtype=tf.int32, name='step_type'), reward=TensorSpec(shape=(), dtype=tf.float32, name='reward'), discount=BoundedTensorSpec(shape=(), dtype=tf.float32, name='discount', minimum=array(0., dtype=float32), maximum=array(1., dtype=float32)), observation=BoundedTensorSpec(shape=(56, 56), dtype=tf.int32, name='observation', minimum=array(0, dtype=int32), maximum=array(7, dtype=int32)))\n",
            "BoundedTensorSpec(shape=(), dtype=tf.int32, name='action', minimum=array(0, dtype=int32), maximum=array(15679, dtype=int32))\n",
            "<tf_agents.networks.sequential.Sequential object at 0x7fec9a7d4cd0>\n",
            "[]\n"
          ],
          "name": "stdout"
        }
      ]
    },
    {
      "cell_type": "code",
      "metadata": {
        "id": "R4BM9sjSDLDh"
      },
      "source": [
        "agent = dqn_agent.DqnAgent(\n",
        "    tf_env.time_step_spec(),\n",
        "    tf_env.action_spec(),\n",
        "    q_network=q_net,\n",
        "    optimizer=optimizer,\n",
        "    td_errors_loss_fn=common.element_wise_squared_loss,\n",
        "    train_step_counter=train_step_counter)\n",
        "\n",
        "agent.initialize()"
      ],
      "execution_count": null,
      "outputs": []
    },
    {
      "cell_type": "code",
      "metadata": {
        "colab": {
          "base_uri": "https://localhost:8080/"
        },
        "id": "38EY2DVzDUOA",
        "outputId": "e85d1a7a-dd2b-4d1d-8bbf-fecaa8570ad2"
      },
      "source": [
        "eval_policy = agent.policy\n",
        "collect_policy = agent.collect_policy\n",
        "random_policy = random_tf_policy.RandomTFPolicy(train_env.time_step_spec(),\n",
        "                                                train_env.action_spec())\n",
        "example_environment = tf_py_environment.TFPyEnvironment(CitiesSkylinesEnvironment)\n",
        "time_step = example_environment.reset()\n",
        "random_policy.action(time_step)\n",
        "\n"
      ],
      "execution_count": null,
      "outputs": [
        {
          "output_type": "execute_result",
          "data": {
            "text/plain": [
              "PolicyStep(action=<tf.Tensor: shape=(1,), dtype=int32, numpy=array([6499], dtype=int32)>, state=(), info=())"
            ]
          },
          "metadata": {
            "tags": []
          },
          "execution_count": 11
        }
      ]
    },
    {
      "cell_type": "code",
      "metadata": {
        "id": "wCHJ3_v9NCTs"
      },
      "source": [
        "def compute_avg_return(environment, policy, num_episodes=10):\n",
        "\n",
        "  total_return = 0.0\n",
        "  for _ in range(num_episodes):\n",
        "\n",
        "    time_step = environment.reset()\n",
        "    episode_return = 0.0\n",
        "\n",
        "    while not time_step.is_last():\n",
        "      action_step = policy.action(time_step)\n",
        "      time_step = environment.step(action_step.action)\n",
        "      episode_return += time_step.reward\n",
        "    total_return += episode_return\n",
        "\n",
        "  avg_return = total_return / num_episodes\n",
        "  return avg_return.numpy()[0]\n"
      ],
      "execution_count": null,
      "outputs": []
    },
    {
      "cell_type": "code",
      "metadata": {
        "colab": {
          "base_uri": "https://localhost:8080/"
        },
        "id": "KTxgfG19NERV",
        "outputId": "eb19faa6-bed5-4708-cbeb-e7d7f25b802b"
      },
      "source": [
        "compute_avg_return(eval_env, random_policy, num_eval_episodes)\n"
      ],
      "execution_count": null,
      "outputs": [
        {
          "output_type": "execute_result",
          "data": {
            "text/plain": [
              "-138855.58"
            ]
          },
          "metadata": {
            "tags": []
          },
          "execution_count": 13
        }
      ]
    },
    {
      "cell_type": "code",
      "metadata": {
        "id": "t7Lftx87NHO9"
      },
      "source": [
        "replay_buffer = tf_uniform_replay_buffer.TFUniformReplayBuffer(\n",
        "    data_spec=agent.collect_data_spec,\n",
        "    batch_size=train_env.batch_size,\n",
        "    max_length=replay_buffer_max_length)"
      ],
      "execution_count": null,
      "outputs": []
    },
    {
      "cell_type": "code",
      "metadata": {
        "colab": {
          "base_uri": "https://localhost:8080/"
        },
        "id": "SnVQG_5dNIlu",
        "outputId": "a5ca20c4-84ff-4a33-9938-9d1fc4da5854"
      },
      "source": [
        "agent.collect_data_spec\n"
      ],
      "execution_count": null,
      "outputs": [
        {
          "output_type": "execute_result",
          "data": {
            "text/plain": [
              "Trajectory(step_type=TensorSpec(shape=(), dtype=tf.int32, name='step_type'), observation=BoundedTensorSpec(shape=(56, 56), dtype=tf.int32, name='observation', minimum=array(0, dtype=int32), maximum=array(7, dtype=int32)), action=BoundedTensorSpec(shape=(), dtype=tf.int32, name='action', minimum=array(0, dtype=int32), maximum=array(15679, dtype=int32)), policy_info=(), next_step_type=TensorSpec(shape=(), dtype=tf.int32, name='step_type'), reward=TensorSpec(shape=(), dtype=tf.float32, name='reward'), discount=BoundedTensorSpec(shape=(), dtype=tf.float32, name='discount', minimum=array(0., dtype=float32), maximum=array(1., dtype=float32)))"
            ]
          },
          "metadata": {
            "tags": []
          },
          "execution_count": 15
        }
      ]
    },
    {
      "cell_type": "code",
      "metadata": {
        "colab": {
          "base_uri": "https://localhost:8080/"
        },
        "id": "xmqunGNoNKKL",
        "outputId": "bb0e01ed-8ca4-4ef2-e8a4-8b1cebeae3ff"
      },
      "source": [
        "agent.collect_data_spec._fields\n"
      ],
      "execution_count": null,
      "outputs": [
        {
          "output_type": "execute_result",
          "data": {
            "text/plain": [
              "('step_type',\n",
              " 'observation',\n",
              " 'action',\n",
              " 'policy_info',\n",
              " 'next_step_type',\n",
              " 'reward',\n",
              " 'discount')"
            ]
          },
          "metadata": {
            "tags": []
          },
          "execution_count": 16
        }
      ]
    },
    {
      "cell_type": "code",
      "metadata": {
        "id": "B8LMtvCQNMX-"
      },
      "source": [
        "def collect_step(environment, policy, buffer):\n",
        "  time_step = environment.current_time_step()\n",
        "  action_step = policy.action(time_step)\n",
        "  next_time_step = environment.step(action_step.action)\n",
        "  traj = trajectory.from_transition(time_step, action_step, next_time_step)\n",
        "\n",
        "  # Add trajectory to the replay buffer\n",
        "  buffer.add_batch(traj)\n",
        "\n",
        "def collect_data(env, policy, buffer, steps):\n",
        "  for _ in range(steps):\n",
        "    collect_step(env, policy, buffer)\n",
        "\n",
        "collect_data(train_env, random_policy, replay_buffer, initial_collect_steps)"
      ],
      "execution_count": null,
      "outputs": []
    },
    {
      "cell_type": "code",
      "metadata": {
        "colab": {
          "base_uri": "https://localhost:8080/"
        },
        "id": "PHNlkxKsNO6S",
        "outputId": "10091e61-bcbc-4154-b72b-add200671ad9"
      },
      "source": [
        "dataset = replay_buffer.as_dataset(\n",
        "    num_parallel_calls=3, \n",
        "    sample_batch_size=batch_size, \n",
        "    num_steps=2).prefetch(3)\n",
        "\n",
        "\n",
        "dataset\n",
        "iterator = iter(dataset)\n",
        "print(iterator)"
      ],
      "execution_count": null,
      "outputs": [
        {
          "output_type": "stream",
          "text": [
            "WARNING:tensorflow:From /usr/local/lib/python3.7/dist-packages/tensorflow/python/autograph/operators/control_flow.py:1218: ReplayBuffer.get_next (from tf_agents.replay_buffers.replay_buffer) is deprecated and will be removed in a future version.\n",
            "Instructions for updating:\n",
            "Use `as_dataset(..., single_deterministic_pass=False) instead.\n",
            "<tensorflow.python.data.ops.iterator_ops.OwnedIterator object at 0x7fec94fd9550>\n"
          ],
          "name": "stdout"
        }
      ]
    },
    {
      "cell_type": "code",
      "metadata": {
        "id": "uPhcY2XzvK2V",
        "colab": {
          "base_uri": "https://localhost:8080/",
          "height": 391
        },
        "outputId": "ec401daf-889f-4bff-f37b-178618d8a0fa"
      },
      "source": [
        "try:\n",
        "  %%time\n",
        "except:\n",
        "  pass\n",
        "\n",
        "# (Optional) Optimize by wrapping some of the code in a graph using TF function.\n",
        "agent.train = common.function(agent.train)\n",
        "\n",
        "# Reset the train step\n",
        "agent.train_step_counter.assign(0)\n",
        "\n",
        "# Evaluate the agent's policy once before training.\n",
        "avg_return = compute_avg_return(eval_env, agent.policy, num_eval_episodes)\n",
        "returns = [avg_return]\n",
        "\n",
        "for x in range(num_iterations):\n",
        "\n",
        "  # Collect a few steps using collect_policy and save to the replay buffer.\n",
        "  collect_data(train_env, agent.collect_policy, replay_buffer, collect_steps_per_iteration)\n",
        "\n",
        "  #td_targets = dqn_agent.compute_td_targets(q_values_layer, agent.time_step_spec.reward, agent.time_step_spec.discount)\n",
        "\n",
        "  # Sample a batch of data from the buffer and update the agent's network.\n",
        "  experience, unused_info = next(iterator)\n",
        "  train_loss = agent.train(experience).loss\n",
        "\n",
        "  step = agent.train_step_counter.numpy()\n",
        "\n",
        "  if step % log_interval == 0:\n",
        "    print('step = {0}: loss = {1}'.format(step, train_loss))\n",
        "\n",
        "  if step % eval_interval == 0:\n",
        "    avg_return = compute_avg_return(eval_env, agent.policy, num_eval_episodes)\n",
        "    print('step = {0}: Average Return = {1}'.format(step, avg_return))\n",
        "    returns.append(avg_return)\n",
        "    print(eval_env._state)"
      ],
      "execution_count": null,
      "outputs": [
        {
          "output_type": "stream",
          "text": [
            "CPU times: user 2 µs, sys: 0 ns, total: 2 µs\n",
            "Wall time: 5.25 µs\n",
            "step = 40: loss = 0.0\n",
            "step = 40: Average Return = -3678.375\n"
          ],
          "name": "stdout"
        },
        {
          "output_type": "error",
          "ename": "AttributeError",
          "evalue": "ignored",
          "traceback": [
            "\u001b[0;31m---------------------------------------------------------------------------\u001b[0m",
            "\u001b[0;31mAttributeError\u001b[0m                            Traceback (most recent call last)",
            "\u001b[0;32m<ipython-input-27-aea96b8ac1e2>\u001b[0m in \u001b[0;36m<module>\u001b[0;34m()\u001b[0m\n\u001b[1;32m     34\u001b[0m     \u001b[0mprint\u001b[0m\u001b[0;34m(\u001b[0m\u001b[0;34m'step = {0}: Average Return = {1}'\u001b[0m\u001b[0;34m.\u001b[0m\u001b[0mformat\u001b[0m\u001b[0;34m(\u001b[0m\u001b[0mstep\u001b[0m\u001b[0;34m,\u001b[0m \u001b[0mavg_return\u001b[0m\u001b[0;34m)\u001b[0m\u001b[0;34m)\u001b[0m\u001b[0;34m\u001b[0m\u001b[0;34m\u001b[0m\u001b[0m\n\u001b[1;32m     35\u001b[0m     \u001b[0mreturns\u001b[0m\u001b[0;34m.\u001b[0m\u001b[0mappend\u001b[0m\u001b[0;34m(\u001b[0m\u001b[0mavg_return\u001b[0m\u001b[0;34m)\u001b[0m\u001b[0;34m\u001b[0m\u001b[0;34m\u001b[0m\u001b[0m\n\u001b[0;32m---> 36\u001b[0;31m     \u001b[0mprint\u001b[0m\u001b[0;34m(\u001b[0m\u001b[0meval_env\u001b[0m\u001b[0;34m.\u001b[0m\u001b[0m_state\u001b[0m\u001b[0;34m)\u001b[0m\u001b[0;34m\u001b[0m\u001b[0;34m\u001b[0m\u001b[0m\n\u001b[0m",
            "\u001b[0;32m/usr/local/lib/python3.7/dist-packages/tf_agents/environments/tf_py_environment.py\u001b[0m in \u001b[0;36m__getattr__\u001b[0;34m(self, name)\u001b[0m\n\u001b[1;32m    192\u001b[0m     \u001b[0;32mif\u001b[0m \u001b[0mname\u001b[0m \u001b[0;32min\u001b[0m \u001b[0mself\u001b[0m\u001b[0;34m.\u001b[0m\u001b[0m__dict__\u001b[0m\u001b[0;34m:\u001b[0m\u001b[0;34m\u001b[0m\u001b[0;34m\u001b[0m\u001b[0m\n\u001b[1;32m    193\u001b[0m       \u001b[0;32mreturn\u001b[0m \u001b[0mgetattr\u001b[0m\u001b[0;34m(\u001b[0m\u001b[0mself\u001b[0m\u001b[0;34m,\u001b[0m \u001b[0mname\u001b[0m\u001b[0;34m)\u001b[0m\u001b[0;34m\u001b[0m\u001b[0;34m\u001b[0m\u001b[0m\n\u001b[0;32m--> 194\u001b[0;31m     \u001b[0;32mreturn\u001b[0m \u001b[0mgetattr\u001b[0m\u001b[0;34m(\u001b[0m\u001b[0mself\u001b[0m\u001b[0;34m.\u001b[0m\u001b[0m_env\u001b[0m\u001b[0;34m,\u001b[0m \u001b[0mname\u001b[0m\u001b[0;34m)\u001b[0m\u001b[0;34m\u001b[0m\u001b[0;34m\u001b[0m\u001b[0m\n\u001b[0m\u001b[1;32m    195\u001b[0m \u001b[0;34m\u001b[0m\u001b[0m\n\u001b[1;32m    196\u001b[0m   \u001b[0;32mdef\u001b[0m \u001b[0mclose\u001b[0m\u001b[0;34m(\u001b[0m\u001b[0mself\u001b[0m\u001b[0;34m)\u001b[0m \u001b[0;34m->\u001b[0m \u001b[0;32mNone\u001b[0m\u001b[0;34m:\u001b[0m\u001b[0;34m\u001b[0m\u001b[0;34m\u001b[0m\u001b[0m\n",
            "\u001b[0;31mAttributeError\u001b[0m: 'BatchedPyEnvironment' object has no attribute '_state'"
          ]
        }
      ]
    },
    {
      "cell_type": "code",
      "metadata": {
        "colab": {
          "base_uri": "https://localhost:8080/",
          "height": 579
        },
        "id": "VuCuDflVNUTI",
        "outputId": "3e8f834d-3390-4d05-fbe9-ff5d36180234"
      },
      "source": [
        "iterations = range(0, num_iterations + 1, eval_interval)\n",
        "plt.plot(iterations, returns)\n",
        "plt.ylabel('Average Return')\n",
        "plt.xlabel('Iterations')\n",
        "plt.ylim(top=250)"
      ],
      "execution_count": null,
      "outputs": [
        {
          "output_type": "execute_result",
          "data": {
            "text/plain": [
              "(-3457.4, 250.0)"
            ]
          },
          "metadata": {
            "tags": []
          },
          "execution_count": 20
        },
        {
          "output_type": "display_data",
          "data": {
            "image/png": "[encoded data removed]",
            "text/plain": [
              "<Figure size 1440x720 with 1 Axes>"
            ]
          },
          "metadata": {
            "tags": [],
            "needs_background": "light"
          }
        }
      ]
    }
  ]
}